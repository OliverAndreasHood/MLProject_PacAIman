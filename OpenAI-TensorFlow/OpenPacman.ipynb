{
 "cells": [
  {
   "cell_type": "code",
   "execution_count": 1,
   "metadata": {},
   "outputs": [
    {
     "name": "stdout",
     "output_type": "stream",
     "text": [
      "Requirement already satisfied: tensorflow==2.3.1 in c:\\users\\bnpc\\anaconda3\\envs\\pacman\\lib\\site-packages (2.3.1)Note: you may need to restart the kernel to use updated packages.\n",
      "Requirement already satisfied: gym in c:\\users\\bnpc\\anaconda3\\envs\\pacman\\lib\\site-packages (0.21.0)\n",
      "Requirement already satisfied: keras-rl2 in c:\\users\\bnpc\\anaconda3\\envs\\pacman\\lib\\site-packages (1.0.5)\n",
      "Requirement already satisfied: absl-py>=0.7.0 in c:\\users\\bnpc\\anaconda3\\envs\\pacman\\lib\\site-packages (from tensorflow==2.3.1) (1.0.0)\n",
      "Requirement already satisfied: six>=1.12.0 in c:\\users\\bnpc\\anaconda3\\envs\\pacman\\lib\\site-packages (from tensorflow==2.3.1) (1.16.0)\n",
      "Requirement already satisfied: gast==0.3.3 in c:\\users\\bnpc\\anaconda3\\envs\\pacman\\lib\\site-packages (from tensorflow==2.3.1) (0.3.3)\n",
      "Requirement already satisfied: tensorboard<3,>=2.3.0 in c:\\users\\bnpc\\anaconda3\\envs\\pacman\\lib\\site-packages (from tensorflow==2.3.1) (2.7.0)\n",
      "Requirement already satisfied: tensorflow-estimator<2.4.0,>=2.3.0 in c:\\users\\bnpc\\anaconda3\\envs\\pacman\\lib\\site-packages (from tensorflow==2.3.1) (2.3.0)\n",
      "Requirement already satisfied: opt-einsum>=2.3.2 in c:\\users\\bnpc\\anaconda3\\envs\\pacman\\lib\\site-packages (from tensorflow==2.3.1) (3.3.0)\n",
      "Requirement already satisfied: wrapt>=1.11.1 in c:\\users\\bnpc\\anaconda3\\envs\\pacman\\lib\\site-packages (from tensorflow==2.3.1) (1.13.3)\n",
      "Requirement already satisfied: wheel>=0.26 in c:\\users\\bnpc\\anaconda3\\envs\\pacman\\lib\\site-packages (from tensorflow==2.3.1) (0.37.1)\n",
      "Requirement already satisfied: h5py<2.11.0,>=2.10.0 in c:\\users\\bnpc\\anaconda3\\envs\\pacman\\lib\\site-packages (from tensorflow==2.3.1) (2.10.0)\n",
      "Requirement already satisfied: astunparse==1.6.3 in c:\\users\\bnpc\\anaconda3\\envs\\pacman\\lib\\site-packages (from tensorflow==2.3.1) (1.6.3)\n",
      "Requirement already satisfied: numpy<1.19.0,>=1.16.0 in c:\\users\\bnpc\\anaconda3\\envs\\pacman\\lib\\site-packages (from tensorflow==2.3.1) (1.18.5)\n",
      "Requirement already satisfied: protobuf>=3.9.2 in c:\\users\\bnpc\\anaconda3\\envs\\pacman\\lib\\site-packages (from tensorflow==2.3.1) (3.19.3)\n",
      "Requirement already satisfied: google-pasta>=0.1.8 in c:\\users\\bnpc\\anaconda3\\envs\\pacman\\lib\\site-packages (from tensorflow==2.3.1) (0.2.0)\n",
      "Requirement already satisfied: termcolor>=1.1.0 in c:\\users\\bnpc\\anaconda3\\envs\\pacman\\lib\\site-packages (from tensorflow==2.3.1) (1.1.0)\n",
      "Requirement already satisfied: grpcio>=1.8.6 in c:\\users\\bnpc\\anaconda3\\envs\\pacman\\lib\\site-packages (from tensorflow==2.3.1) (1.43.0)\n",
      "Requirement already satisfied: keras-preprocessing<1.2,>=1.1.1 in c:\\users\\bnpc\\anaconda3\\envs\\pacman\\lib\\site-packages (from tensorflow==2.3.1) (1.1.2)\n",
      "Requirement already satisfied: cloudpickle>=1.2.0 in c:\\users\\bnpc\\anaconda3\\envs\\pacman\\lib\\site-packages (from gym) (2.0.0)\n",
      "Requirement already satisfied: importlib-metadata>=4.8.1 in c:\\users\\bnpc\\anaconda3\\envs\\pacman\\lib\\site-packages (from gym) (4.8.2)\n",
      "Requirement already satisfied: ale-py~=0.7.1 in c:\\users\\bnpc\\anaconda3\\envs\\pacman\\lib\\site-packages (from gym) (0.7.3)\n",
      "Requirement already satisfied: importlib-resources in c:\\users\\bnpc\\anaconda3\\envs\\pacman\\lib\\site-packages (from ale-py~=0.7.1->gym) (5.4.0)\n",
      "Requirement already satisfied: zipp>=0.5 in c:\\users\\bnpc\\anaconda3\\envs\\pacman\\lib\\site-packages (from importlib-metadata>=4.8.1->gym) (3.7.0)\n",
      "Requirement already satisfied: typing-extensions>=3.6.4 in c:\\users\\bnpc\\anaconda3\\envs\\pacman\\lib\\site-packages (from importlib-metadata>=4.8.1->gym) (3.10.0.2)\n",
      "Requirement already satisfied: werkzeug>=0.11.15 in c:\\users\\bnpc\\anaconda3\\envs\\pacman\\lib\\site-packages (from tensorboard<3,>=2.3.0->tensorflow==2.3.1) (2.0.2)\n",
      "Requirement already satisfied: tensorboard-data-server<0.7.0,>=0.6.0 in c:\\users\\bnpc\\anaconda3\\envs\\pacman\\lib\\site-packages (from tensorboard<3,>=2.3.0->tensorflow==2.3.1) (0.6.1)\n",
      "Requirement already satisfied: markdown>=2.6.8 in c:\\users\\bnpc\\anaconda3\\envs\\pacman\\lib\\site-packages (from tensorboard<3,>=2.3.0->tensorflow==2.3.1) (3.3.6)\n",
      "Requirement already satisfied: setuptools>=41.0.0 in c:\\users\\bnpc\\anaconda3\\envs\\pacman\\lib\\site-packages (from tensorboard<3,>=2.3.0->tensorflow==2.3.1) (58.0.4)\n",
      "Requirement already satisfied: google-auth-oauthlib<0.5,>=0.4.1 in c:\\users\\bnpc\\anaconda3\\envs\\pacman\\lib\\site-packages (from tensorboard<3,>=2.3.0->tensorflow==2.3.1) (0.4.6)\n",
      "Requirement already satisfied: requests<3,>=2.21.0 in c:\\users\\bnpc\\anaconda3\\envs\\pacman\\lib\\site-packages (from tensorboard<3,>=2.3.0->tensorflow==2.3.1) (2.27.1)\n",
      "Requirement already satisfied: tensorboard-plugin-wit>=1.6.0 in c:\\users\\bnpc\\anaconda3\\envs\\pacman\\lib\\site-packages (from tensorboard<3,>=2.3.0->tensorflow==2.3.1) (1.8.1)\n",
      "Requirement already satisfied: google-auth<3,>=1.6.3 in c:\\users\\bnpc\\anaconda3\\envs\\pacman\\lib\\site-packages (from tensorboard<3,>=2.3.0->tensorflow==2.3.1) (2.3.3)\n",
      "Requirement already satisfied: pyasn1-modules>=0.2.1 in c:\\users\\bnpc\\anaconda3\\envs\\pacman\\lib\\site-packages (from google-auth<3,>=1.6.3->tensorboard<3,>=2.3.0->tensorflow==2.3.1) (0.2.8)\n",
      "Requirement already satisfied: cachetools<5.0,>=2.0.0 in c:\\users\\bnpc\\anaconda3\\envs\\pacman\\lib\\site-packages (from google-auth<3,>=1.6.3->tensorboard<3,>=2.3.0->tensorflow==2.3.1) (4.2.4)\n",
      "Requirement already satisfied: rsa<5,>=3.1.4 in c:\\users\\bnpc\\anaconda3\\envs\\pacman\\lib\\site-packages (from google-auth<3,>=1.6.3->tensorboard<3,>=2.3.0->tensorflow==2.3.1) (4.8)\n",
      "Requirement already satisfied: requests-oauthlib>=0.7.0 in c:\\users\\bnpc\\anaconda3\\envs\\pacman\\lib\\site-packages (from google-auth-oauthlib<0.5,>=0.4.1->tensorboard<3,>=2.3.0->tensorflow==2.3.1) (1.3.0)\n",
      "Requirement already satisfied: pyasn1<0.5.0,>=0.4.6 in c:\\users\\bnpc\\anaconda3\\envs\\pacman\\lib\\site-packages (from pyasn1-modules>=0.2.1->google-auth<3,>=1.6.3->tensorboard<3,>=2.3.0->tensorflow==2.3.1) (0.4.8)\n",
      "Requirement already satisfied: urllib3<1.27,>=1.21.1 in c:\\users\\bnpc\\anaconda3\\envs\\pacman\\lib\\site-packages (from requests<3,>=2.21.0->tensorboard<3,>=2.3.0->tensorflow==2.3.1) (1.26.8)\n",
      "Requirement already satisfied: idna<4,>=2.5 in c:\\users\\bnpc\\anaconda3\\envs\\pacman\\lib\\site-packages (from requests<3,>=2.21.0->tensorboard<3,>=2.3.0->tensorflow==2.3.1) (3.3)\n",
      "Requirement already satisfied: charset-normalizer~=2.0.0 in c:\\users\\bnpc\\anaconda3\\envs\\pacman\\lib\\site-packages (from requests<3,>=2.21.0->tensorboard<3,>=2.3.0->tensorflow==2.3.1) (2.0.10)\n",
      "Requirement already satisfied: certifi>=2017.4.17 in c:\\users\\bnpc\\anaconda3\\envs\\pacman\\lib\\site-packages (from requests<3,>=2.21.0->tensorboard<3,>=2.3.0->tensorflow==2.3.1) (2021.10.8)\n",
      "Requirement already satisfied: oauthlib>=3.0.0 in c:\\users\\bnpc\\anaconda3\\envs\\pacman\\lib\\site-packages (from requests-oauthlib>=0.7.0->google-auth-oauthlib<0.5,>=0.4.1->tensorboard<3,>=2.3.0->tensorflow==2.3.1) (3.1.1)\n",
      "\n",
      "Requirement already satisfied: gym[accept-rom-license] in c:\\users\\bnpc\\anaconda3\\envs\\pacman\\lib\\site-packages (0.21.0)\n",
      "Requirement already satisfied: numpy>=1.18.0 in c:\\users\\bnpc\\anaconda3\\envs\\pacman\\lib\\site-packages (from gym[accept-rom-license]) (1.18.5)\n",
      "Requirement already satisfied: importlib-metadata>=4.8.1 in c:\\users\\bnpc\\anaconda3\\envs\\pacman\\lib\\site-packages (from gym[accept-rom-license]) (4.8.2)\n",
      "Requirement already satisfied: cloudpickle>=1.2.0 in c:\\users\\bnpc\\anaconda3\\envs\\pacman\\lib\\site-packages (from gym[accept-rom-license]) (2.0.0)\n",
      "Requirement already satisfied: autorom[accept-rom-license]~=0.4.2 in c:\\users\\bnpc\\anaconda3\\envs\\pacman\\lib\\site-packages (from gym[accept-rom-license]) (0.4.2)\n",
      "Requirement already satisfied: click in c:\\users\\bnpc\\anaconda3\\envs\\pacman\\lib\\site-packages (from autorom[accept-rom-license]~=0.4.2->gym[accept-rom-license]) (8.0.3)\n",
      "Requirement already satisfied: tqdm in c:\\users\\bnpc\\anaconda3\\envs\\pacman\\lib\\site-packages (from autorom[accept-rom-license]~=0.4.2->gym[accept-rom-license]) (4.62.3)\n",
      "Requirement already satisfied: importlib-resources in c:\\users\\bnpc\\anaconda3\\envs\\pacman\\lib\\site-packages (from autorom[accept-rom-license]~=0.4.2->gym[accept-rom-license]) (5.4.0)\n",
      "Requirement already satisfied: requests in c:\\users\\bnpc\\anaconda3\\envs\\pacman\\lib\\site-packages (from autorom[accept-rom-license]~=0.4.2->gym[accept-rom-license]) (2.27.1)\n",
      "Requirement already satisfied: AutoROM.accept-rom-license in c:\\users\\bnpc\\anaconda3\\envs\\pacman\\lib\\site-packages (from autorom[accept-rom-license]~=0.4.2->gym[accept-rom-license]) (0.4.2)\n",
      "Requirement already satisfied: zipp>=0.5 in c:\\users\\bnpc\\anaconda3\\envs\\pacman\\lib\\site-packages (from importlib-metadata>=4.8.1->gym[accept-rom-license]) (3.7.0)\n",
      "Requirement already satisfied: typing-extensions>=3.6.4 in c:\\users\\bnpc\\anaconda3\\envs\\pacman\\lib\\site-packages (from importlib-metadata>=4.8.1->gym[accept-rom-license]) (3.10.0.2)\n",
      "Requirement already satisfied: colorama in c:\\users\\bnpc\\anaconda3\\envs\\pacman\\lib\\site-packages (from click->autorom[accept-rom-license]~=0.4.2->gym[accept-rom-license]) (0.4.4)\n",
      "Requirement already satisfied: idna<4,>=2.5 in c:\\users\\bnpc\\anaconda3\\envs\\pacman\\lib\\site-packages (from requests->autorom[accept-rom-license]~=0.4.2->gym[accept-rom-license]) (3.3)\n",
      "Requirement already satisfied: certifi>=2017.4.17 in c:\\users\\bnpc\\anaconda3\\envs\\pacman\\lib\\site-packages (from requests->autorom[accept-rom-license]~=0.4.2->gym[accept-rom-license]) (2021.10.8)\n",
      "Requirement already satisfied: charset-normalizer~=2.0.0 in c:\\users\\bnpc\\anaconda3\\envs\\pacman\\lib\\site-packages (from requests->autorom[accept-rom-license]~=0.4.2->gym[accept-rom-license]) (2.0.10)\n",
      "Requirement already satisfied: urllib3<1.27,>=1.21.1 in c:\\users\\bnpc\\anaconda3\\envs\\pacman\\lib\\site-packages (from requests->autorom[accept-rom-license]~=0.4.2->gym[accept-rom-license]) (1.26.8)\n",
      "Note: you may need to restart the kernel to use updated packages.\n",
      "Requirement already satisfied: pyglet in c:\\users\\bnpc\\anaconda3\\envs\\pacman\\lib\\site-packages (1.5.21)\n",
      "Note: you may need to restart the kernel to use updated packages.\n"
     ]
    }
   ],
   "source": [
    "%pip install tensorflow==2.3.1 gym keras-rl2 gym[atari]\n",
    "%pip install gym[accept-rom-license]\n",
    "%pip install pyglet"
   ]
  },
  {
   "cell_type": "code",
   "execution_count": 2,
   "metadata": {},
   "outputs": [
    {
     "name": "stderr",
     "output_type": "stream",
     "text": [
      "C:\\Users\\BNPC\\anaconda3\\envs\\PAcman\\lib\\site-packages\\ale_py\\roms\\utils.py:90: DeprecationWarning: SelectableGroups dict interface is deprecated. Use select.\n",
      "  for external in metadata.entry_points().get(self.group, []):\n"
     ]
    }
   ],
   "source": [
    "import gym\n",
    "import random"
   ]
  },
  {
   "cell_type": "code",
   "execution_count": 3,
   "metadata": {},
   "outputs": [],
   "source": [
    "env = gym.make('MsPacman-v0')#, render_mode='human')\n",
    "height, width, channels = env.observation_space.shape\n",
    "actions = env.action_space.n"
   ]
  },
  {
   "cell_type": "code",
   "execution_count": 4,
   "metadata": {},
   "outputs": [
    {
     "data": {
      "text/plain": [
       "['NOOP',\n",
       " 'UP',\n",
       " 'RIGHT',\n",
       " 'LEFT',\n",
       " 'DOWN',\n",
       " 'UPRIGHT',\n",
       " 'UPLEFT',\n",
       " 'DOWNRIGHT',\n",
       " 'DOWNLEFT']"
      ]
     },
     "execution_count": 4,
     "metadata": {},
     "output_type": "execute_result"
    }
   ],
   "source": [
    "env.unwrapped.get_action_meanings()"
   ]
  },
  {
   "cell_type": "code",
   "execution_count": 5,
   "metadata": {},
   "outputs": [
    {
     "name": "stdout",
     "output_type": "stream",
     "text": [
      "Episode:1 Score:220.0\n",
      "Episode:2 Score:280.0\n",
      "Episode:3 Score:210.0\n",
      "Episode:4 Score:220.0\n",
      "Episode:5 Score:250.0\n"
     ]
    }
   ],
   "source": [
    "episodes = 5\n",
    "for episode in range(1, episodes+1):\n",
    "    state = env.reset()\n",
    "    done = False\n",
    "    score = 0 \n",
    "    \n",
    "    while not done:\n",
    "        env.render()\n",
    "        action = random.choice(range(actions))\n",
    "        n_state, reward, done, info = env.step(action)\n",
    "        score+=reward\n",
    "    print('Episode:{} Score:{}'.format(episode, score))\n",
    "env.close()"
   ]
  },
  {
   "cell_type": "code",
   "execution_count": 6,
   "metadata": {},
   "outputs": [],
   "source": [
    "import numpy as np\n",
    "from tensorflow.keras.models import Sequential\n",
    "from tensorflow.keras.layers import Dense, Flatten, Convolution2D\n",
    "from tensorflow.keras.optimizers import Adam, SGD"
   ]
  },
  {
   "cell_type": "code",
   "execution_count": 7,
   "metadata": {},
   "outputs": [],
   "source": [
    "def build_model(height, width, channels, actions):\n",
    "    model = Sequential(layers=[\n",
    "        Convolution2D(32, (8, 8), strides = (4,4), activation='relu', input_shape = (3,height,width,channels)),\n",
    "        Convolution2D(64, (4, 4), strides = (2,2), activation='relu'),\n",
    "        Convolution2D(64, (3, 3), activation='relu'),\n",
    "        Flatten(),\n",
    "        Dense(512, activation='relu'),\n",
    "        Dense(256, activation='relu'),\n",
    "        Dense(actions, activation='linear')])\n",
    "    print(model.summary())\n",
    "    return model\n"
   ]
  },
  {
   "cell_type": "code",
   "execution_count": 19,
   "metadata": {},
   "outputs": [],
   "source": [
    "del model"
   ]
  },
  {
   "cell_type": "code",
   "execution_count": 20,
   "metadata": {},
   "outputs": [
    {
     "name": "stdout",
     "output_type": "stream",
     "text": [
      "Model: \"sequential_2\"\n",
      "_________________________________________________________________\n",
      "Layer (type)                 Output Shape              Param #   \n",
      "=================================================================\n",
      "conv2d_6 (Conv2D)            (None, 3, 51, 39, 32)     6176      \n",
      "_________________________________________________________________\n",
      "conv2d_7 (Conv2D)            (None, 3, 24, 18, 64)     32832     \n",
      "_________________________________________________________________\n",
      "conv2d_8 (Conv2D)            (None, 3, 22, 16, 64)     36928     \n",
      "_________________________________________________________________\n",
      "flatten_2 (Flatten)          (None, 67584)             0         \n",
      "_________________________________________________________________\n",
      "dense_8 (Dense)              (None, 512)               34603520  \n",
      "_________________________________________________________________\n",
      "dense_9 (Dense)              (None, 256)               131328    \n",
      "_________________________________________________________________\n",
      "dense_10 (Dense)             (None, 9)                 2313      \n",
      "=================================================================\n",
      "Total params: 34,813,097\n",
      "Trainable params: 34,813,097\n",
      "Non-trainable params: 0\n",
      "_________________________________________________________________\n",
      "None\n"
     ]
    }
   ],
   "source": [
    "model = build_model(height, width, channels, actions)"
   ]
  },
  {
   "cell_type": "code",
   "execution_count": 21,
   "metadata": {},
   "outputs": [],
   "source": [
    "from rl.agents import DQNAgent\n",
    "from rl.memory import SequentialMemory\n",
    "from rl.policy import LinearAnnealedPolicy, EpsGreedyQPolicy"
   ]
  },
  {
   "cell_type": "code",
   "execution_count": 22,
   "metadata": {},
   "outputs": [],
   "source": [
    "def build_agent(model, actions):\n",
    "    policy = LinearAnnealedPolicy(EpsGreedyQPolicy(), attr='eps', value_max=1., value_min=.1, value_test=.2, nb_steps=10000)\n",
    "    memory = SequentialMemory(limit=1000, window_length=3)\n",
    "    dqn = DQNAgent(\n",
    "        model=model, \n",
    "        memory=memory, \n",
    "        policy=policy, \n",
    "        enable_dueling_network=True, \n",
    "        dueling_type='avg', \n",
    "        nb_actions=actions,\n",
    "        nb_steps_warmup=1000\n",
    "    )\n",
    "    return dqn"
   ]
  },
  {
   "cell_type": "code",
   "execution_count": 23,
   "metadata": {},
   "outputs": [],
   "source": [
    "dqn = build_agent(model, actions)"
   ]
  },
  {
   "cell_type": "code",
   "execution_count": 24,
   "metadata": {},
   "outputs": [],
   "source": [
    "dqn.compile(Adam(learning_rate=1e-4))"
   ]
  },
  {
   "cell_type": "code",
   "execution_count": 25,
   "metadata": {},
   "outputs": [
    {
     "name": "stdout",
     "output_type": "stream",
     "text": [
      "Training for 10000 steps ...\n",
      "  818/10000: episode: 1, duration: 19.205s, episode steps: 818, steps per second:  43, episode reward: 260.000, mean reward:  0.318 [ 0.000, 10.000], mean action: 3.971 [0.000, 8.000],  loss: --, mean_q: --, mean_eps: --\n",
      "done, took 141.580 seconds\n"
     ]
    },
    {
     "data": {
      "text/plain": [
       "<tensorflow.python.keras.callbacks.History at 0x1cab5148d08>"
      ]
     },
     "execution_count": 25,
     "metadata": {},
     "output_type": "execute_result"
    }
   ],
   "source": [
    "dqn.fit(env, nb_steps=10000, visualize=True, verbose=2)"
   ]
  },
  {
   "cell_type": "code",
   "execution_count": null,
   "metadata": {},
   "outputs": [],
   "source": []
  }
 ],
 "metadata": {
  "interpreter": {
   "hash": "361823495b17489efeaeccf318091240e132297ba5d4dac12e93ed57064eb06e"
  },
  "kernelspec": {
   "display_name": "Python 3 (ipykernel)",
   "language": "python",
   "name": "python3"
  },
  "language_info": {
   "codemirror_mode": {
    "name": "ipython",
    "version": 3
   },
   "file_extension": ".py",
   "mimetype": "text/x-python",
   "name": "python",
   "nbconvert_exporter": "python",
   "pygments_lexer": "ipython3",
   "version": "3.7.11"
  }
 },
 "nbformat": 4,
 "nbformat_minor": 2
}
